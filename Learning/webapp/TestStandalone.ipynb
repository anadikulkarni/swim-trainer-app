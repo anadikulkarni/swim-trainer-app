{
 "cells": [
  {
   "cell_type": "code",
   "execution_count": 1,
   "metadata": {},
   "outputs": [],
   "source": [
    "def event_lookup(event):\n",
    "    conversions = {\n",
    "            \"Free\" : \"freestyle\",\n",
    "            \"Back\" : \"backstroke\",\n",
    "            \"Breast\" : \"breaststroke\",\n",
    "            \"Fly\" : \"butterfly\",\n",
    "            \"IM\" : \"individual medley\"\n",
    "    }\n",
    "    *_, distance, stroke = event.removesuffix(\".txt\").split(\"-\")\n",
    "    return f\"{distance} {conversions[stroke]}\""
   ]
  },
  {
   "cell_type": "code",
   "execution_count": 2,
   "metadata": {},
   "outputs": [
    {
     "name": "stdout",
     "output_type": "stream",
     "text": [
      "100m backstroke\n"
     ]
    }
   ],
   "source": [
    "print(event_lookup(\"Darius-13-100m-Back.txt\"))"
   ]
  },
  {
   "cell_type": "code",
   "execution_count": 3,
   "metadata": {},
   "outputs": [],
   "source": [
    "import json\n",
    "with open(\"records.json\") as file:\n",
    "    records = json.load(file)"
   ]
  },
  {
   "cell_type": "code",
   "execution_count": 4,
   "metadata": {},
   "outputs": [
    {
     "data": {
      "text/plain": [
       "'51.60'"
      ]
     },
     "execution_count": 4,
     "metadata": {},
     "output_type": "execute_result"
    }
   ],
   "source": [
    "records[\"LC Men\"][event_lookup(\"Darius-13-100m-Back.txt\")]"
   ]
  },
  {
   "cell_type": "code",
   "execution_count": 5,
   "metadata": {},
   "outputs": [
    {
     "name": "stdout",
     "output_type": "stream",
     "text": [
      "49.45\n",
      "55.48\n",
      "47.78\n",
      "54.05\n"
     ]
    }
   ],
   "source": [
    "COURSES = (\"LC Men\", \"LC Women\", \"SC Men\", \"SC Women\")\n",
    "\n",
    "for course in COURSES:\n",
    "    print(records[course][event_lookup(\"Darius-13-100m-Fly.txt\")])"
   ]
  },
  {
   "cell_type": "code",
   "execution_count": null,
   "metadata": {},
   "outputs": [],
   "source": []
  }
 ],
 "metadata": {
  "kernelspec": {
   "display_name": "Python 3",
   "language": "python",
   "name": "python3"
  },
  "language_info": {
   "codemirror_mode": {
    "name": "ipython",
    "version": 3
   },
   "file_extension": ".py",
   "mimetype": "text/x-python",
   "name": "python",
   "nbconvert_exporter": "python",
   "pygments_lexer": "ipython3",
   "version": "3.10.6"
  }
 },
 "nbformat": 4,
 "nbformat_minor": 2
}
